{
 "cells": [
  {
   "cell_type": "code",
   "execution_count": 2,
   "metadata": {},
   "outputs": [
    {
     "name": "stdout",
     "output_type": "stream",
     "text": [
      "Mean Squared Error for each variable:\n",
      "u10: 3.1480144875057405\n",
      "v10: 1.9297425605019203\n",
      "sp: 231794184.693344\n",
      "tp: 3.077662069285573e-07\n",
      "skt: 360.86002358302176\n",
      "ssrd: 1750242224561.9722\n",
      "hcc: 0.23249456769384683\n",
      "lcc: 0.2081191311592575\n",
      "mcc: 0.14577548818747843\n",
      "tcc: 0.30334466204357097\n",
      "e: 3.125806192108874e-08\n",
      "cp: 1.1665506910928896e-07\n",
      "lsp: 1.17097886163851e-07\n",
      "ptype: 3.1738353747718717\n",
      "sf: 5.7208190755198485e-09\n",
      "z: 246145756.5042462\n"
     ]
    }
   ],
   "source": [
    "import pandas as pd\n",
    "import numpy as np\n",
    "import matplotlib.pyplot as plt\n",
    "from sklearn.metrics import mean_squared_error\n",
    "\n",
    "# Load dataset\n",
    "df = pd.read_csv('dataset/new_dataset.csv')\n",
    "df['valid_time'] = pd.to_datetime(df['valid_time'])\n",
    "df.set_index('valid_time', inplace=True)\n",
    "\n",
    "# Drop unwanted columns\n",
    "df_clean = df.drop(columns=['latitude', 'longitude', 'number', 'expver'])\n",
    "\n",
    "# Define columns for Monte Carlo simulation\n",
    "cols_to_simulate = [\n",
    "    'u10', 'v10', 'sp',\n",
    "    'tp', 'skt', 'ssrd', \n",
    "    'hcc', 'lcc', 'mcc', 'tcc', \n",
    "    'e', 'cp', 'lsp', \n",
    "    'ptype', 'sf', 'z'\n",
    "]\n",
    "\n",
    "# Prepare storage for simulation results\n",
    "num_simulations = 1000  # Number of simulations\n",
    "simulation_results = {col: [] for col in cols_to_simulate}\n",
    "\n",
    "# Monte Carlo simulation\n",
    "for col in cols_to_simulate:\n",
    "    # Fit a normal distribution to the data\n",
    "    mean = df_clean[col].mean()\n",
    "    std_dev = df_clean[col].std()\n",
    "    \n",
    "    # Generate random samples from the normal distribution\n",
    "    simulated_values = np.random.normal(loc=mean, scale=std_dev, size=num_simulations)\n",
    "    simulation_results[col] = simulated_values\n",
    "\n",
    "# Convert simulation results to DataFrame for easier analysis\n",
    "simulation_df = pd.DataFrame(simulation_results)\n",
    "\n",
    "# Calculate MSE for each variable\n",
    "mse_results = {}\n",
    "for col in cols_to_simulate:\n",
    "    # Ensure we have enough actual data for comparison\n",
    "    actual_values = df_clean[col].values[:num_simulations]  # Match the number of simulations\n",
    "    mse = mean_squared_error(actual_values, simulation_results[col])\n",
    "    mse_results[col] = mse\n",
    "\n",
    "# Print MSE results\n",
    "print(\"Mean Squared Error for each variable:\")\n",
    "for col, mse in mse_results.items():\n",
    "    print(f\"{col}: {mse}\")\n"
   ]
  }
 ],
 "metadata": {
  "kernelspec": {
   "display_name": "Python 3 (ipykernel)",
   "language": "python",
   "name": "python3"
  },
  "language_info": {
   "codemirror_mode": {
    "name": "ipython",
    "version": 3
   },
   "file_extension": ".py",
   "mimetype": "text/x-python",
   "name": "python",
   "nbconvert_exporter": "python",
   "pygments_lexer": "ipython3",
   "version": "3.11.4"
  }
 },
 "nbformat": 4,
 "nbformat_minor": 2
}
