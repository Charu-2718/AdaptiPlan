{
 "cells": [
  {
   "cell_type": "code",
   "execution_count": 1,
   "metadata": {},
   "outputs": [
    {
     "name": "stdout",
     "output_type": "stream",
     "text": [
      "Data successfully saved to CSV.\n"
     ]
    }
   ],
   "source": [
    "import xarray as xr\n",
    "import pandas as pd\n",
    "\n",
    "# Load the .nc file\n",
    "ds = xr.open_dataset('dataset.nc')\n",
    "\n",
    "# Convert the dataset to a pandas DataFrame\n",
    "df = ds.to_dataframe().reset_index()\n",
    "\n",
    "# Save the DataFrame to a CSV file\n",
    "df.to_csv('new_dataset.csv', index=False)\n",
    "\n",
    "print(\"Data successfully saved to CSV.\")\n"
   ]
  }
 ],
 "metadata": {
  "kernelspec": {
   "display_name": "Python 3 (ipykernel)",
   "language": "python",
   "name": "python3"
  }
 },
 "nbformat": 4,
 "nbformat_minor": 2
}
